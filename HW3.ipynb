{
 "cells": [
  {
   "cell_type": "code",
   "execution_count": 1,
   "metadata": {},
   "outputs": [],
   "source": [
    "import numpy as np\n",
    "import pandas as pd\n",
    "import matplotlib.pyplot as plt"
   ]
  },
  {
   "cell_type": "code",
   "execution_count": 2,
   "metadata": {},
   "outputs": [],
   "source": [
    "def train_test_split(X, Y, test_size):\n",
    "    \n",
    "    shuffled_indices = np.random.permutation(len(X))\n",
    "\n",
    "    test_set_size = int(len(X) * test_size)\n",
    "\n",
    "    test_indices = shuffled_indices[:test_set_size]\n",
    "    train_indices = shuffled_indices[test_set_size:]\n",
    "\n",
    "    X_train = X[train_indices]\n",
    "    X_test = X[test_indices]\n",
    "    \n",
    "    Y_train = Y[train_indices]\n",
    "    Y_test = Y[test_indices]\n",
    "    \n",
    "    return X_train, X_test, Y_train, Y_test"
   ]
  },
  {
   "cell_type": "code",
   "execution_count": 3,
   "metadata": {},
   "outputs": [],
   "source": [
    "def mean_squared_error(y_true, y_pred):\n",
    "    y_pred = np.squeeze(y_pred)\n",
    "    return np.mean((y_true - y_pred) ** 2)"
   ]
  },
  {
   "cell_type": "markdown",
   "metadata": {},
   "source": [
    "### (1)MLR "
   ]
  },
  {
   "cell_type": "code",
   "execution_count": 4,
   "metadata": {},
   "outputs": [],
   "source": [
    "class MLR:\n",
    "    def __init__(self):\n",
    "\n",
    "        self.weights = None\n",
    "\n",
    "    def fit(self, x, y):\n",
    "\n",
    "        design_matrix = self.compute_design_matrix(x)\n",
    "\n",
    "        design_matrix_dot_product = design_matrix.T @ design_matrix\n",
    "\n",
    "        y_reshaped = y.reshape(-1, 1)\n",
    "\n",
    "        self.weights = np.linalg.inv(design_matrix_dot_product) @ design_matrix.T @ y_reshaped # 3.15\n",
    "        \n",
    "        return self.weights\n",
    "\n",
    "    def predict(self, x):\n",
    "\n",
    "        design_matrix = self.compute_design_matrix(x)\n",
    "\n",
    "        pred_mean = design_matrix.dot(self.weights)\n",
    "\n",
    "        return pred_mean\n",
    "\n",
    "    def compute_design_matrix(self, features: np.ndarray) -> np.ndarray:\n",
    "        \"\"\"\n",
    "        (3.16)\n",
    "        Args:\n",
    "            features: numpy array of features\n",
    "        Returns:\n",
    "            design_matrix: numpy array of transformed features\n",
    "        \"\"\"\n",
    "        n_samples = len(features)\n",
    "        phi_0 = np.ones(n_samples).reshape(-1, 1)\n",
    "        design_matrix = np.concatenate([phi_0, features], axis=1)\n",
    "        return design_matrix"
   ]
  },
  {
   "cell_type": "code",
   "execution_count": 5,
   "metadata": {
    "scrolled": true
   },
   "outputs": [
    {
     "name": "stdout",
     "output_type": "stream",
     "text": [
      "(MLR)Testing set's MSE : 128.50449744641833\n"
     ]
    }
   ],
   "source": [
    "if __name__ == \"__main__\":\n",
    "    calories = pd.read_csv(r\".\\calories.csv\", index_col=0)\n",
    "    exercise = pd.read_csv(r\".\\exercise.csv\", index_col=0)\n",
    "\n",
    "    features = ['Age','Height','Weight','Duration','Heart_Rate','Body_Temp']\n",
    "\n",
    "    mlr = MLR()\n",
    "\n",
    "    x = exercise[features].values\n",
    "    y = calories['Calories'].values\n",
    "\n",
    "    x_train, x_test, y_train, y_test = train_test_split(x, y, test_size=0.2)\n",
    "    x_train, x_val, y_train, y_val = train_test_split(x_train, y_train, test_size=0.125)\n",
    "\n",
    "    mlr.fit(x = x_train, y = y_train)\n",
    "\n",
    "    y_pred = mlr.predict(x = x_val)\n",
    "\n",
    "    mse_val = mean_squared_error(y_val, y_pred)\n",
    "    mse_test = mean_squared_error(y_test, mlr.predict(x = x_test))\n",
    "    \n",
    "    print(f\"(MLR)Testing set's MSE : {mse_test}\")"
   ]
  },
  {
   "cell_type": "markdown",
   "metadata": {},
   "source": [
    "### (2)BLR\n"
   ]
  },
  {
   "cell_type": "code",
   "execution_count": 6,
   "metadata": {},
   "outputs": [],
   "source": [
    "class BLR:\n",
    "    \"\"\" Bayesian linear regression\n",
    "    Args:\n",
    "        prior_mean: Mean values of the prior distribution (m_0)\n",
    "        prior_cov: Covariance matrix of the prior distribution (S_0)\n",
    "        noise_var: Variance of the noise distribution\n",
    "    \"\"\"\n",
    "\n",
    "    def __init__(self, prior_mean: np.ndarray, prior_cov: np.ndarray, noise_var: float):\n",
    "        self.prior_mean = prior_mean[:, np.newaxis]  # column vector of shape (d, 1)\n",
    "        self.prior_cov = prior_cov  # matrix of shape (d, d)\n",
    "        \n",
    "        # We also know the variance of the noise\n",
    "        self.noise_var = noise_var  # single float value\n",
    "        self.noise_precision = 1 / noise_var\n",
    "\n",
    "        # Before performing any inference the posterior mean and covariance equal the prior mean and variance\n",
    "        self.post_mean = self.prior_mean  # corresponds to m_N in formulas\n",
    "        self.post_cov = self.prior_cov  # corresponds to S_N in formulas\n",
    "\n",
    "    def fit(self, x: np.ndarray, y: np.ndarray):\n",
    "        y = y[:, np.newaxis]\n",
    "\n",
    "        # (3.51)\n",
    "        design_matrix = self.compute_design_matrix(x)\n",
    "\n",
    "        design_matrix_dot_product = design_matrix.T @ design_matrix\n",
    "        inv_prior_cov = np.linalg.inv(self.prior_cov)\n",
    "        self.post_cov = np.linalg.inv(inv_prior_cov + self.noise_precision * design_matrix_dot_product)  # Eq. (3.51) S_N\n",
    "\n",
    "        # (3.50)\n",
    "        self.post_mean = self.post_cov @ (inv_prior_cov @ self.prior_mean + self.noise_precision * design_matrix.T @ y) # m_N\n",
    "        \n",
    "        return self.post_mean, self.post_cov\n",
    "    \n",
    "    def compute_design_matrix(self, features: np.ndarray) -> np.ndarray:\n",
    "        n_samples = len(features)\n",
    "        phi_0 = np.ones(n_samples).reshape(-1, 1)\n",
    "        design_matrix = np.concatenate([phi_0, features], axis=1)\n",
    "        return design_matrix\n",
    "\n",
    "    def predict(self, x: np.ndarray):\n",
    "        design_matrix = self.compute_design_matrix(x)\n",
    "\n",
    "        pred_mean = design_matrix.dot(self.post_mean)\n",
    "\n",
    "        return pred_mean"
   ]
  },
  {
   "cell_type": "code",
   "execution_count": 7,
   "metadata": {},
   "outputs": [
    {
     "name": "stdout",
     "output_type": "stream",
     "text": [
      "(BLR)Testing set's MSE : 123.45793613810334\n",
      "\n"
     ]
    }
   ],
   "source": [
    "if __name__ == \"__main__\":\n",
    "    calories = pd.read_csv(r\".\\calories.csv\", index_col=0)\n",
    "    exercise = pd.read_csv(r\".\\exercise.csv\", index_col=0)\n",
    "\n",
    "    features = ['Age','Height','Weight','Duration','Heart_Rate','Body_Temp']\n",
    "    \n",
    "    prior_mean = np.zeros(len(features) + 1)\n",
    "    prior_cov = 1 * np.identity(len(features) + 1)\n",
    "    noise_var = 0.001\n",
    "    \n",
    "    blr = BLR(prior_mean, prior_cov, noise_var)\n",
    "\n",
    "    x = exercise[features].values\n",
    "    y = calories['Calories'].values\n",
    "\n",
    "    x_train, x_test, y_train, y_test = train_test_split(x, y, test_size=0.2)\n",
    "    x_train, x_val, y_train, y_val = train_test_split(x_train, y_train, test_size=0.125)\n",
    "\n",
    "    blr.fit(x = x_train, y = y_train)\n",
    "\n",
    "    y_pred = blr.predict(x = x_val)\n",
    "\n",
    "    mse_val = mean_squared_error(y_val, y_pred)\n",
    "    mse_test = mean_squared_error(y_test, blr.predict(x = x_test))\n",
    "\n",
    "    print(f\"(BLR)Testing set's MSE : {mse_test}\")\n",
    "\n",
    "    print(\"\")"
   ]
  },
  {
   "cell_type": "markdown",
   "metadata": {},
   "source": [
    "### (3) the difference between Maximum Likelihood and Bayesian Linear Regression"
   ]
  },
  {
   "cell_type": "code",
   "execution_count": 8,
   "metadata": {
    "scrolled": true
   },
   "outputs": [
    {
     "name": "stdout",
     "output_type": "stream",
     "text": [
      "(MLR)Testing set's MSE :  131.2903\n",
      "(BLR)Testing set's MSE :  131.2886\n",
      "\n"
     ]
    }
   ],
   "source": [
    "# 測試訓練集數量與MSE之間的關係\n",
    "if __name__ == \"__main__\":\n",
    "    calories = pd.read_csv(r\".\\calories.csv\", index_col=0)\n",
    "    exercise = pd.read_csv(r\".\\exercise.csv\", index_col=0)\n",
    "\n",
    "#     features = ['Duration']\n",
    "    features = ['Age','Height','Weight','Duration','Heart_Rate','Body_Temp']\n",
    "    \n",
    "    prior_mean = np.zeros(len(features) + 1)\n",
    "    prior_cov = 1 * np.identity(len(features) + 1)\n",
    "    noise_var = 0.001\n",
    "    \n",
    "    mlr = MLR()\n",
    "    blr = BLR(prior_mean, prior_cov, noise_var)\n",
    "\n",
    "    x = exercise[features].values\n",
    "    y = calories['Calories'].values\n",
    "    \n",
    "    N = 10000\n",
    "    shuffled_indices = [i for i in range(len(x))]\n",
    "\n",
    "    train_indices = shuffled_indices[:N]\n",
    "    test_indices = shuffled_indices[N:]\n",
    "\n",
    "    x_train = x[train_indices]\n",
    "    x_test = x[test_indices]\n",
    "    \n",
    "    y_train = y[train_indices]\n",
    "    y_test = y[test_indices]\n",
    "\n",
    "    mlr.fit(x = x_train, y = y_train)\n",
    "    Mn, Sn = blr.fit(x = x_train, y = y_train)\n",
    "    \n",
    "    print(f\"(MLR)Testing set's MSE : {mean_squared_error(y_test, mlr.predict(x = x_test)) : .4f}\")\n",
    "    print(f\"(BLR)Testing set's MSE : {mean_squared_error(y_test, blr.predict(x = x_test)) : .4f}\")\n",
    "\n",
    "    print(\"\")"
   ]
  },
  {
   "cell_type": "code",
   "execution_count": 9,
   "metadata": {},
   "outputs": [
    {
     "name": "stdout",
     "output_type": "stream",
     "text": [
      "(MLR)Testing set's MSE :  348.1703\n",
      "(BLR)Testing set's MSE :  348.1634\n",
      "\n"
     ]
    },
    {
     "data": {
      "image/png": "[encoded data removed]",
      "text/plain": [
       "<Figure size 720x720 with 1 Axes>"
      ]
     },
     "metadata": {
      "needs_background": "light"
     },
     "output_type": "display_data"
    }
   ],
   "source": [
    "if __name__ == \"__main__\":\n",
    "    calories = pd.read_csv(r\".\\calories.csv\", index_col=0)\n",
    "    exercise = pd.read_csv(r\".\\exercise.csv\", index_col=0)\n",
    "\n",
    "    features = ['Duration']\n",
    "    \n",
    "    prior_mean = np.zeros(len(features) + 1)\n",
    "    prior_cov = 20 * np.identity(len(features) + 1)\n",
    "    noise_var = 100\n",
    "\n",
    "    mlr = MLR()\n",
    "    \n",
    "    blr = BLR(prior_mean, prior_cov, noise_var)\n",
    "\n",
    "    x = exercise[features].values\n",
    "    y = calories['Calories'].values\n",
    "    \n",
    "    N = 10000\n",
    "    x_train, x_test, y_train, y_test = train_test_split(x, y, test_size=0.2)\n",
    "    x_train, x_val, y_train, y_val = train_test_split(x_train, y_train, test_size=0.125)\n",
    "\n",
    "    Mn, Sn = blr.fit(x = x_train[1:N,:], y = y_train[1:N])\n",
    "    w = mlr.fit(x = x_train, y = y_train)\n",
    "    \n",
    "    print(f\"(MLR)Testing set's MSE : {mean_squared_error(y_test, mlr.predict(x = x_test)) : .4f}\")\n",
    "    print(f\"(BLR)Testing set's MSE : {mean_squared_error(y_test, blr.predict(x = x_test)) : .4f}\")\n",
    "\n",
    "    print(\"\")\n",
    "    \n",
    "    f_xy = np.random.multivariate_normal(Mn.flatten(), Sn, 20)\n",
    "\n",
    "    plt.figure(figsize = (10, 10))\n",
    "    plt.scatter(x_test, y_test, s = 12, alpha = 0.8, c = 'r', label = 'Observations')\n",
    "    plt.plot(x_test, w[0] + x_test * w[1], 'k:', label = 'OLS Fit', linewidth = 3)\n",
    "    plt.plot(x_test, f_xy[0,0] + x_test * f_xy[0,1], 'b', label = 'Bayesian Posterior Fits', linewidth = 1)\n",
    "    for i in range(1,len(f_xy)):\n",
    "        plt.plot(x_test, f_xy[i,0] + x_test * f_xy[i,1], 'b', alpha = 0.5, linewidth = 1)\n",
    "    plt.title(f'Number of training set : {N}', size = 20); \n",
    "    plt.xlabel('Duration (min)', size = 18);\n",
    "    plt.ylabel('Calories', size = 18);\n",
    "    plt.legend(prop={'size': 16});"
   ]
  },
  {
   "cell_type": "markdown",
   "metadata": {},
   "source": [
    "### (4)best model"
   ]
  },
  {
   "cell_type": "code",
   "execution_count": 10,
   "metadata": {},
   "outputs": [
    {
     "name": "stdout",
     "output_type": "stream",
     "text": [
      "Training until validation scores don't improve for 10 rounds\n",
      "[10]\tvalid_0's l2: 532.517\n",
      "[20]\tvalid_0's l2: 96.4396\n",
      "[30]\tvalid_0's l2: 27.0248\n",
      "[40]\tvalid_0's l2: 12.6715\n",
      "[50]\tvalid_0's l2: 8.1198\n",
      "[60]\tvalid_0's l2: 6.34874\n",
      "[70]\tvalid_0's l2: 5.4215\n",
      "[80]\tvalid_0's l2: 4.91969\n",
      "[90]\tvalid_0's l2: 4.51011\n",
      "[100]\tvalid_0's l2: 4.17364\n",
      "[110]\tvalid_0's l2: 3.86967\n",
      "[120]\tvalid_0's l2: 3.61384\n",
      "[130]\tvalid_0's l2: 3.44975\n",
      "[140]\tvalid_0's l2: 3.29311\n",
      "[150]\tvalid_0's l2: 3.18573\n",
      "[160]\tvalid_0's l2: 3.0802\n",
      "[170]\tvalid_0's l2: 2.95967\n",
      "[180]\tvalid_0's l2: 2.87709\n",
      "[190]\tvalid_0's l2: 2.80134\n",
      "[200]\tvalid_0's l2: 2.73854\n",
      "[210]\tvalid_0's l2: 2.69004\n",
      "[220]\tvalid_0's l2: 2.65178\n",
      "[230]\tvalid_0's l2: 2.61656\n",
      "[240]\tvalid_0's l2: 2.54363\n",
      "[250]\tvalid_0's l2: 2.51341\n",
      "[260]\tvalid_0's l2: 2.46497\n",
      "[270]\tvalid_0's l2: 2.41977\n",
      "[280]\tvalid_0's l2: 2.37007\n",
      "[290]\tvalid_0's l2: 2.31578\n",
      "[300]\tvalid_0's l2: 2.29868\n",
      "[310]\tvalid_0's l2: 2.25195\n",
      "[320]\tvalid_0's l2: 2.22235\n",
      "[330]\tvalid_0's l2: 2.2122\n",
      "[340]\tvalid_0's l2: 2.19558\n",
      "[350]\tvalid_0's l2: 2.17823\n",
      "[360]\tvalid_0's l2: 2.14866\n",
      "[370]\tvalid_0's l2: 2.12843\n",
      "[380]\tvalid_0's l2: 2.09445\n",
      "[390]\tvalid_0's l2: 2.07132\n",
      "[400]\tvalid_0's l2: 2.05862\n",
      "[410]\tvalid_0's l2: 2.05148\n",
      "[420]\tvalid_0's l2: 2.03813\n",
      "[430]\tvalid_0's l2: 2.03223\n",
      "[440]\tvalid_0's l2: 2.00571\n",
      "[450]\tvalid_0's l2: 1.99438\n",
      "[460]\tvalid_0's l2: 1.98642\n",
      "Early stopping, best iteration is:\n",
      "[453]\tvalid_0's l2: 1.984\n",
      "\n",
      "(lightgbm)Testing set's MSE : 1.7835730986711569\n"
     ]
    }
   ],
   "source": [
    "from lightgbm import LGBMRegressor, early_stopping, log_evaluation\n",
    "from sklearn.preprocessing import LabelEncoder\n",
    "import warnings\n",
    "warnings.filterwarnings(\"ignore\")\n",
    "\n",
    "calories = pd.read_csv(r\".\\calories.csv\", index_col=0)\n",
    "exercise = pd.read_csv(r\".\\exercise.csv\", index_col=0)\n",
    "\n",
    "y = calories.values\n",
    "\n",
    "le = LabelEncoder()\n",
    "exercise['Gender'] = le.fit_transform(exercise['Gender'])\n",
    "\n",
    "x = exercise.values\n",
    "\n",
    "random_seed = 42\n",
    "\n",
    "x_train, x_test, y_train, y_test = train_test_split(x, y, test_size=0.2)\n",
    "x_train, x_val, y_train, y_val = train_test_split(x_train, y_train, test_size=0.125)\n",
    "\n",
    "model = LGBMRegressor(boosting_type='gbdt', random_state=random_seed,\n",
    "                      n_estimators=3000, objective='regression', n_jobs=-1)\n",
    "\n",
    "callbacks = [early_stopping(stopping_rounds=10), log_evaluation(period=10)]\n",
    "\n",
    "eval_set = [(x_val, y_val)]\n",
    "\n",
    "model.fit(x_train, y_train, eval_set=eval_set, callbacks=callbacks, eval_metric=['l2'])\n",
    "\n",
    "y_pred = model.predict(x_val)\n",
    "\n",
    "mse_val = mean_squared_error(np.squeeze(y_val), y_pred)\n",
    "mse_test = mean_squared_error(np.squeeze(y_test), model.predict(x_test))\n",
    "\n",
    "print(\"\")\n",
    "print(f\"(lightgbm)Testing set's MSE : {mse_test}\")"
   ]
  },
  {
   "cell_type": "code",
   "execution_count": null,
   "metadata": {},
   "outputs": [],
   "source": []
  }
 ],
 "metadata": {
  "kernelspec": {
   "display_name": "Python 3",
   "language": "python",
   "name": "python3"
  },
  "language_info": {
   "codemirror_mode": {
    "name": "ipython",
    "version": 3
   },
   "file_extension": ".py",
   "mimetype": "text/x-python",
   "name": "python",
   "nbconvert_exporter": "python",
   "pygments_lexer": "ipython3",
   "version": "3.7.9"
  }
 },
 "nbformat": 4,
 "nbformat_minor": 4
}
